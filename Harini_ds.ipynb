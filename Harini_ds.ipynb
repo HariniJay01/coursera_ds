{
  "metadata": {
    "language_info": {
      "name": ""
    },
    "kernelspec": {
      "name": "python",
      "display_name": "Python (Pyodide)",
      "language": "python"
    }
  },
  "nbformat_minor": 4,
  "nbformat": 4,
  "cells": [
    {
      "cell_type": "markdown",
      "source": "## My Jupyter Notebook on IBM Watson Studio",
      "metadata": {}
    },
    {
      "cell_type": "markdown",
      "source": "**HARINI J**\nStudent",
      "metadata": {}
    },
    {
      "cell_type": "markdown",
      "source": "*I am interested in data science because it is an interesting subject*",
      "metadata": {}
    },
    {
      "cell_type": "code",
      "source": "print(1+1)\n",
      "metadata": {
        "trusted": true
      },
      "execution_count": null,
      "outputs": []
    },
    {
      "cell_type": "markdown",
      "source": "* Bullet1\n* Bullet2\n* Bullet3",
      "metadata": {}
    },
    {
      "cell_type": "markdown",
      "source": "<a href=\"url\" target=\"_blank\">hyperlinked words</a>",
      "metadata": {}
    },
    {
      "cell_type": "markdown",
      "source": "![Cat image](https://images.pexels.com/photos/45201/kitty-cat-kitten-pet-45201.jpeg?auto=compress&cs=tinysrgb&w=600)",
      "metadata": {}
    },
    {
      "cell_type": "code",
      "source": "",
      "metadata": {},
      "execution_count": null,
      "outputs": []
    }
  ]
}